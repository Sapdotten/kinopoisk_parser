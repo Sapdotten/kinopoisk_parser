{
 "cells": [
  {
   "cell_type": "code",
   "execution_count": 1,
   "metadata": {},
   "outputs": [],
   "source": [
    "from bs4 import BeautifulSoup\n",
    "import requests\n",
    "from fake_useragent import UserAgent\n",
    "from string import Template\n",
    "import time\n",
    "import random\n",
    "import os\n",
    "import re\n",
    "import json"
   ]
  },
  {
   "cell_type": "code",
   "execution_count": null,
   "metadata": {},
   "outputs": [],
   "source": [
    "good_reviews = Template(\"https://www.kinopoisk.ru/film/${film_id}/reviews/ord/date/status/good/perpage/200/page/${page_num}/\")\n",
    "bad_reviews = Template(\"https://www.kinopoisk.ru/film/${film_id}/reviews/ord/date/status/bad/perpage/200/page/${page_num}/\")\n",
    "url = \"https://www.kinopoisk.ru/top/navigator/m_act[rating]/1%3A/order/num_vote/perpage/200/#results\""
   ]
  },
  {
   "cell_type": "code",
   "execution_count": null,
   "metadata": {},
   "outputs": [],
   "source": [
    "def create_folders():\n",
    "    path_bad = os.path.join(\"dataset\", \"bad\")\n",
    "    if not os.path.isdir(path_bad):\n",
    "        os.makedirs(path_bad)\n",
    "    path_good = os.path.join(\"dataset\", \"good\")\n",
    "    if not os.path.isdir(path_good):\n",
    "        os.makedirs(path_good)\n",
    "\n",
    "def slep():\n",
    "    delay = random.uniform(10, 60)\n",
    "    print(f'delay is: {delay}')\n",
    "    time.sleep(delay)"
   ]
  },
  {
   "cell_type": "code",
   "execution_count": null,
   "metadata": {},
   "outputs": [],
   "source": [
    "chrome = UserAgent().chrome\n",
    "\n",
    "def get_page(link: str) -> str:\n",
    "    global chrome\n",
    "    slep()\n",
    "    html_text = requests.get(link, headers={'User-Agent': chrome}).text\n",
    "    return html_text"
   ]
  },
  {
   "cell_type": "code",
   "execution_count": null,
   "metadata": {},
   "outputs": [],
   "source": [
    "create_folders()\n",
    "films = {}\n",
    "with open('films.json', 'r') as file:\n",
    "    films = json.load(file)"
   ]
  },
  {
   "cell_type": "code",
   "execution_count": null,
   "metadata": {},
   "outputs": [],
   "source": []
  }
 ],
 "metadata": {
  "kernelspec": {
   "display_name": "Python 3",
   "language": "python",
   "name": "python3"
  },
  "language_info": {
   "codemirror_mode": {
    "name": "ipython",
    "version": 3
   },
   "file_extension": ".py",
   "mimetype": "text/x-python",
   "name": "python",
   "nbconvert_exporter": "python",
   "pygments_lexer": "ipython3",
   "version": "3.9.11"
  },
  "orig_nbformat": 4
 },
 "nbformat": 4,
 "nbformat_minor": 2
}
