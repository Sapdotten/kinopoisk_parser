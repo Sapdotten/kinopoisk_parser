{
 "cells": [
  {
   "cell_type": "markdown",
   "metadata": {},
   "source": [
    "#### Импорт библиотек:"
   ]
  },
  {
   "cell_type": "code",
   "execution_count": 8,
   "metadata": {},
   "outputs": [],
   "source": [
    "from bs4 import BeautifulSoup\n",
    "import requests\n",
    "from fake_useragent import UserAgent\n",
    "from string import Template\n",
    "import time\n",
    "import random\n",
    "import os\n",
    "import re\n",
    "import json\n",
    "import yaml"
   ]
  },
  {
   "cell_type": "markdown",
   "metadata": {},
   "source": [
    "#### Инициализация шаблонов ссылок:"
   ]
  },
  {
   "cell_type": "code",
   "execution_count": 9,
   "metadata": {},
   "outputs": [],
   "source": [
    "good_reviews = Template(\"https://www.kinopoisk.ru/film/${film_id}/reviews/ord/date/status/good/perpage/200/page/${page_num}/\")\n",
    "bad_reviews = Template(\"https://www.kinopoisk.ru/film/${film_id}/reviews/ord/date/status/bad/perpage/200/page/${page_num}/\")\n",
    "chrome = UserAgent().chrome"
   ]
  },
  {
   "cell_type": "markdown",
   "metadata": {},
   "source": [
    "#### Получение конфигов:"
   ]
  },
  {
   "cell_type": "code",
   "execution_count": 11,
   "metadata": {},
   "outputs": [
    {
     "name": "stdout",
     "output_type": "stream",
     "text": [
      "{'count_of_bad_rewievs': 0, 'count_of_good_rewievs': 0, 'delay': 0, 'film_id': 0, 'page_num_bad': 1, 'page_num_good': 1}\n"
     ]
    }
   ],
   "source": [
    "\n",
    "\"\"\"retrieves the settings and breakpoint from the settings file\"\"\"\n",
    "global configs\n",
    "with open('config.yaml', 'r') as f:\n",
    "    configs = yaml.safe_load(f)\n",
    "    print(configs)"
   ]
  },
  {
   "cell_type": "markdown",
   "metadata": {},
   "source": [
    "#### Создание папок:"
   ]
  },
  {
   "cell_type": "code",
   "execution_count": 12,
   "metadata": {},
   "outputs": [],
   "source": [
    "\n",
    "\"\"\"creates folders for datasets\"\"\"\n",
    "path_bad = os.path.join(\"dataset\", \"bad\")\n",
    "if not os.path.isdir(path_bad):\n",
    "    os.makedirs(path_bad)\n",
    "path_good = os.path.join(\"dataset\", \"good\")\n",
    "if not os.path.isdir(path_good):\n",
    "    os.makedirs(path_good)"
   ]
  },
  {
   "cell_type": "markdown",
   "metadata": {},
   "source": [
    "#### Инициализация функций:"
   ]
  },
  {
   "cell_type": "markdown",
   "metadata": {},
   "source": [
    "Функция для сохранения конфигов в файл:"
   ]
  },
  {
   "cell_type": "code",
   "execution_count": 13,
   "metadata": {},
   "outputs": [],
   "source": [
    "def sync_configs():\n",
    "    \"\"\"saves current configs to the config file\"\"\"\n",
    "    global configs\n",
    "    with open(\"config.yaml\", \"w\") as f:\n",
    "        yaml.safe_dump(configs, f)\n",
    "\n",
    "        "
   ]
  },
  {
   "cell_type": "markdown",
   "metadata": {},
   "source": [
    "Функция, возвращающая \"супную\" страницу, проверяет на капчу"
   ]
  },
  {
   "cell_type": "code",
   "execution_count": 14,
   "metadata": {},
   "outputs": [],
   "source": [
    "def get_page(link: str) -> BeautifulSoup:\n",
    "    \"\"\"tries to get soup-page without captcha\"\"\"\n",
    "    global chrome\n",
    "    while True:\n",
    "        html = requests.get(link, headers={'User-Agent': chrome}).text\n",
    "        page = BeautifulSoup(html, 'lxml')\n",
    "        captcha = page.find_all('div', class_ = \"CheckboxCaptcha\")\n",
    "        if (captcha is None) or len(captcha)==0:\n",
    "            print(\"page is gotten\")\n",
    "            return page\n",
    "        print(\"fail, is catpcha\")"
   ]
  },
  {
   "cell_type": "markdown",
   "metadata": {},
   "source": [
    "Функция, сохраняющая позитивые или отрицательные рецензии с одной страницы одного фильма"
   ]
  },
  {
   "cell_type": "code",
   "execution_count": 15,
   "metadata": {},
   "outputs": [],
   "source": [
    "def save_rewievs_from_page(page: BeautifulSoup, film_name: str, good: bool):\n",
    "    \"\"\"Save rewievs for film from on of his page\"\"\"\n",
    "    global configs\n",
    "    rewievs = page.find_all('div', class_ = 'brand_words')\n",
    "    count_key=\"count_of_good_rewievs\"\n",
    "    file_way = Template('dataset\\\\good\\\\${num}.txt')\n",
    "    if not good:\n",
    "        count_key = \"count_of_bad_rewievs\"\n",
    "        file_way = Template('dataset\\\\bad\\\\${num}.txt')\n",
    "\n",
    "    for i, rewiev in enumerate(rewievs):\n",
    "        if configs[count_key]>=1000:\n",
    "            break\n",
    "        configs[count_key]+=1\n",
    "        sync_configs()\n",
    "        num = format(configs[count_key], '04d')\n",
    "        with open(file_way.substitute(num = num), 'w+', encoding='utf8') as file:\n",
    "            file.write(film_name+'\\n'+rewiev.text)"
   ]
  },
  {
   "cell_type": "markdown",
   "metadata": {},
   "source": [
    "Функция, сохраняющая все позитивные или отрицательные отзывы с одного фильма:"
   ]
  },
  {
   "cell_type": "code",
   "execution_count": 16,
   "metadata": {},
   "outputs": [],
   "source": [
    "def save_rewievs(film_id: str, film_name: str, good: bool):\n",
    "    \"\"\"saves rewievs from one film\"\"\"\n",
    "    global configs\n",
    "    page_key = \"page_num_good\"\n",
    "    if good:\n",
    "        link = good_reviews.substitute(film_id = film_id, page_num=configs[page_key])\n",
    "    else:\n",
    "        page_key = \"page_num_bad\"\n",
    "        link = bad_reviews.substitute(film_id = film_id, page_num=configs[page_key])\n",
    "    page = get_page(link)\n",
    "    \n",
    "    #парсим количество хороших отзывывов\n",
    "    count_of_rewievs = page.find('div', class_ = 'pagesFromTo')\n",
    "    if count_of_rewievs is None:\n",
    "        return 0\n",
    "    count_of_rewievs = count_of_rewievs.text\n",
    "    count_of_rewievs = int(re.sub('\\d+.\\d+ из ', '', count_of_rewievs, count=0))\n",
    "    print(f\"In film {film_name} {count_of_rewievs} {good} rewievs\")\n",
    "\n",
    "    #подсчет количества страниц с хорошими отзывами фильма ----------#\n",
    "    count_of_pages = 0\n",
    "    if count_of_rewievs>=200:\n",
    "        count_of_pages = count_of_rewievs//200\n",
    "        if count_of_rewievs > count_of_pages*200:\n",
    "            count_of_pages+=1\n",
    "    else:\n",
    "        count_of_pages = 1\n",
    "    print(f'Count of pages with {good} rewievs for film \"{film_name}\" is {count_of_pages}')\n",
    "    #------------------------------------------------------------------#\n",
    "\n",
    "    save_rewievs_from_page(page, film_name, good)\n",
    "    configs[page_key]+=1\n",
    "    sync_configs()\n",
    "    page_num = configs[page_key]\n",
    "    for i in range(page_num, count_of_pages+1, 1):\n",
    "        print(f\"saving a {i} page\")\n",
    "        link = good_reviews.substitute(film_id = film_id, page_num=i)\n",
    "        page = get_page(link)\n",
    "        save_rewievs_from_page(page, film_name, good)\n",
    "        configs[page_key]+=1\n",
    "        sync_configs()\n",
    "    configs[page_key]=1\n",
    "    sync_configs()"
   ]
  },
  {
   "cell_type": "markdown",
   "metadata": {},
   "source": [
    "#### Загрузка словаря фильмов из файла"
   ]
  },
  {
   "cell_type": "code",
   "execution_count": 17,
   "metadata": {},
   "outputs": [],
   "source": [
    "with open('films.json', 'r') as file:\n",
    "        films = json.load(file)"
   ]
  },
  {
   "cell_type": "markdown",
   "metadata": {},
   "source": [
    "#### Париснг хороших рецензий:"
   ]
  },
  {
   "cell_type": "code",
   "execution_count": 18,
   "metadata": {},
   "outputs": [
    {
     "ename": "NameError",
     "evalue": "name 'chrome' is not defined",
     "output_type": "error",
     "traceback": [
      "\u001b[1;31m---------------------------------------------------------------------------\u001b[0m",
      "\u001b[1;31mNameError\u001b[0m                                 Traceback (most recent call last)",
      "\u001b[1;32mc:\\Users\\regis\\reposes\\kinopoisk_parser\\parse.ipynb Cell 21\u001b[0m line \u001b[0;36m9\n\u001b[0;32m      <a href='vscode-notebook-cell:/c%3A/Users/regis/reposes/kinopoisk_parser/parse.ipynb#X22sZmlsZQ%3D%3D?line=6'>7</a>\u001b[0m \u001b[39melif\u001b[39;00m configs[\u001b[39m\"\u001b[39m\u001b[39mfilm_id\u001b[39m\u001b[39m\"\u001b[39m] \u001b[39m!=\u001b[39m key:\n\u001b[0;32m      <a href='vscode-notebook-cell:/c%3A/Users/regis/reposes/kinopoisk_parser/parse.ipynb#X22sZmlsZQ%3D%3D?line=7'>8</a>\u001b[0m     \u001b[39mcontinue\u001b[39;00m\n\u001b[1;32m----> <a href='vscode-notebook-cell:/c%3A/Users/regis/reposes/kinopoisk_parser/parse.ipynb#X22sZmlsZQ%3D%3D?line=8'>9</a>\u001b[0m save_rewievs(key, films[key][\u001b[39m\"\u001b[39;49m\u001b[39mname\u001b[39;49m\u001b[39m\"\u001b[39;49m], \u001b[39mTrue\u001b[39;49;00m)\n\u001b[0;32m     <a href='vscode-notebook-cell:/c%3A/Users/regis/reposes/kinopoisk_parser/parse.ipynb#X22sZmlsZQ%3D%3D?line=9'>10</a>\u001b[0m configs[\u001b[39m\"\u001b[39m\u001b[39mfilm_id\u001b[39m\u001b[39m\"\u001b[39m] \u001b[39m=\u001b[39m \u001b[39m0\u001b[39m\n\u001b[0;32m     <a href='vscode-notebook-cell:/c%3A/Users/regis/reposes/kinopoisk_parser/parse.ipynb#X22sZmlsZQ%3D%3D?line=10'>11</a>\u001b[0m sync_configs()\n",
      "\u001b[1;32mc:\\Users\\regis\\reposes\\kinopoisk_parser\\parse.ipynb Cell 21\u001b[0m line \u001b[0;36m1\n\u001b[0;32m      <a href='vscode-notebook-cell:/c%3A/Users/regis/reposes/kinopoisk_parser/parse.ipynb#X22sZmlsZQ%3D%3D?line=7'>8</a>\u001b[0m     page_key \u001b[39m=\u001b[39m \u001b[39m\"\u001b[39m\u001b[39mpage_num_bad\u001b[39m\u001b[39m\"\u001b[39m\n\u001b[0;32m      <a href='vscode-notebook-cell:/c%3A/Users/regis/reposes/kinopoisk_parser/parse.ipynb#X22sZmlsZQ%3D%3D?line=8'>9</a>\u001b[0m     link \u001b[39m=\u001b[39m bad_reviews\u001b[39m.\u001b[39msubstitute(film_id \u001b[39m=\u001b[39m film_id, page_num\u001b[39m=\u001b[39mconfigs[page_key])\n\u001b[1;32m---> <a href='vscode-notebook-cell:/c%3A/Users/regis/reposes/kinopoisk_parser/parse.ipynb#X22sZmlsZQ%3D%3D?line=9'>10</a>\u001b[0m page \u001b[39m=\u001b[39m get_page(link)\n\u001b[0;32m     <a href='vscode-notebook-cell:/c%3A/Users/regis/reposes/kinopoisk_parser/parse.ipynb#X22sZmlsZQ%3D%3D?line=11'>12</a>\u001b[0m \u001b[39m#парсим количество хороших отзывывов\u001b[39;00m\n\u001b[0;32m     <a href='vscode-notebook-cell:/c%3A/Users/regis/reposes/kinopoisk_parser/parse.ipynb#X22sZmlsZQ%3D%3D?line=12'>13</a>\u001b[0m count_of_rewievs \u001b[39m=\u001b[39m page\u001b[39m.\u001b[39mfind(\u001b[39m'\u001b[39m\u001b[39mdiv\u001b[39m\u001b[39m'\u001b[39m, class_ \u001b[39m=\u001b[39m \u001b[39m'\u001b[39m\u001b[39mpagesFromTo\u001b[39m\u001b[39m'\u001b[39m)\n",
      "\u001b[1;32mc:\\Users\\regis\\reposes\\kinopoisk_parser\\parse.ipynb Cell 21\u001b[0m line \u001b[0;36m5\n\u001b[0;32m      <a href='vscode-notebook-cell:/c%3A/Users/regis/reposes/kinopoisk_parser/parse.ipynb#X22sZmlsZQ%3D%3D?line=2'>3</a>\u001b[0m \u001b[39mglobal\u001b[39;00m chrome\n\u001b[0;32m      <a href='vscode-notebook-cell:/c%3A/Users/regis/reposes/kinopoisk_parser/parse.ipynb#X22sZmlsZQ%3D%3D?line=3'>4</a>\u001b[0m \u001b[39mwhile\u001b[39;00m \u001b[39mTrue\u001b[39;00m:\n\u001b[1;32m----> <a href='vscode-notebook-cell:/c%3A/Users/regis/reposes/kinopoisk_parser/parse.ipynb#X22sZmlsZQ%3D%3D?line=4'>5</a>\u001b[0m     html \u001b[39m=\u001b[39m requests\u001b[39m.\u001b[39mget(link, headers\u001b[39m=\u001b[39m{\u001b[39m'\u001b[39m\u001b[39mUser-Agent\u001b[39m\u001b[39m'\u001b[39m: chrome})\u001b[39m.\u001b[39mtext\n\u001b[0;32m      <a href='vscode-notebook-cell:/c%3A/Users/regis/reposes/kinopoisk_parser/parse.ipynb#X22sZmlsZQ%3D%3D?line=5'>6</a>\u001b[0m     page \u001b[39m=\u001b[39m BeautifulSoup(html, \u001b[39m'\u001b[39m\u001b[39mlxml\u001b[39m\u001b[39m'\u001b[39m)\n\u001b[0;32m      <a href='vscode-notebook-cell:/c%3A/Users/regis/reposes/kinopoisk_parser/parse.ipynb#X22sZmlsZQ%3D%3D?line=6'>7</a>\u001b[0m     captcha \u001b[39m=\u001b[39m page\u001b[39m.\u001b[39mfind_all(\u001b[39m'\u001b[39m\u001b[39mdiv\u001b[39m\u001b[39m'\u001b[39m, class_ \u001b[39m=\u001b[39m \u001b[39m\"\u001b[39m\u001b[39mCheckboxCaptcha\u001b[39m\u001b[39m\"\u001b[39m)\n",
      "\u001b[1;31mNameError\u001b[0m: name 'chrome' is not defined"
     ]
    }
   ],
   "source": [
    "for key in films.keys():\n",
    "        if configs[\"count_of_good_rewievs\"] >=1000:\n",
    "            break\n",
    "        if configs[\"film_id\"] == 0:\n",
    "            configs[\"film_id\"] = key\n",
    "            sync_configs()\n",
    "        elif configs[\"film_id\"] != key:\n",
    "            continue\n",
    "        save_rewievs(key, films[key][\"name\"], True)\n",
    "        configs[\"film_id\"] = 0\n",
    "        sync_configs()"
   ]
  },
  {
   "cell_type": "markdown",
   "metadata": {},
   "source": [
    "#### Парсинг отрицательных рецензий:"
   ]
  },
  {
   "cell_type": "code",
   "execution_count": null,
   "metadata": {},
   "outputs": [],
   "source": [
    "for key in films.keys():\n",
    "        if configs[\"count_of_bad_rewievs\"] >=1000:\n",
    "            break\n",
    "        if configs[\"film_id\"] == 0:\n",
    "            configs[\"film_id\"] = key\n",
    "            sync_configs()\n",
    "        elif configs[\"film_id\"] != key:\n",
    "            continue\n",
    "        save_rewievs(key, films[key][\"name\"], False)\n",
    "        configs[\"film_id\"] = 0\n",
    "        sync_configs()"
   ]
  }
 ],
 "metadata": {
  "kernelspec": {
   "display_name": "Python 3",
   "language": "python",
   "name": "python3"
  },
  "language_info": {
   "codemirror_mode": {
    "name": "ipython",
    "version": 3
   },
   "file_extension": ".py",
   "mimetype": "text/x-python",
   "name": "python",
   "nbconvert_exporter": "python",
   "pygments_lexer": "ipython3",
   "version": "3.9.11"
  },
  "orig_nbformat": 4
 },
 "nbformat": 4,
 "nbformat_minor": 2
}
