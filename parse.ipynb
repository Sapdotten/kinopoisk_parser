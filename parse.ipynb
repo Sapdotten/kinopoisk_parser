{
 "cells": [
  {
   "cell_type": "markdown",
   "metadata": {},
   "source": [
    "#### Импорт библиотек:"
   ]
  },
  {
   "cell_type": "code",
   "execution_count": 8,
   "metadata": {},
   "outputs": [],
   "source": [
    "from bs4 import BeautifulSoup\n",
    "import requests\n",
    "from fake_useragent import UserAgent\n",
    "from string import Template\n",
    "import time\n",
    "import random\n",
    "import os\n",
    "import re\n",
    "import json\n",
    "import yaml"
   ]
  },
  {
   "cell_type": "markdown",
   "metadata": {},
   "source": [
    "#### Инициализация шаблонов ссылок:"
   ]
  },
  {
   "cell_type": "code",
   "execution_count": 19,
   "metadata": {},
   "outputs": [],
   "source": [
    "good_reviews = Template(\"https://www.kinopoisk.ru/film/${film_id}/reviews/ord/date/status/good/perpage/200/page/${page_num}/\")\n",
    "bad_reviews = Template(\"https://www.kinopoisk.ru/film/${film_id}/reviews/ord/date/status/bad/perpage/200/page/${page_num}/\")\n",
    "chrome = UserAgent().chrome"
   ]
  },
  {
   "cell_type": "markdown",
   "metadata": {},
   "source": [
    "#### Получение конфигов:"
   ]
  },
  {
   "cell_type": "code",
   "execution_count": 11,
   "metadata": {},
   "outputs": [
    {
     "name": "stdout",
     "output_type": "stream",
     "text": [
      "{'count_of_bad_rewievs': 0, 'count_of_good_rewievs': 0, 'delay': 0, 'film_id': 0, 'page_num_bad': 1, 'page_num_good': 1}\n"
     ]
    }
   ],
   "source": [
    "\n",
    "\"\"\"retrieves the settings and breakpoint from the settings file\"\"\"\n",
    "global configs\n",
    "with open('config.yaml', 'r') as f:\n",
    "    configs = yaml.safe_load(f)\n",
    "    print(configs)"
   ]
  },
  {
   "cell_type": "markdown",
   "metadata": {},
   "source": [
    "#### Создание папок:"
   ]
  },
  {
   "cell_type": "code",
   "execution_count": 12,
   "metadata": {},
   "outputs": [],
   "source": [
    "\n",
    "\"\"\"creates folders for datasets\"\"\"\n",
    "path_bad = os.path.join(\"dataset\", \"bad\")\n",
    "if not os.path.isdir(path_bad):\n",
    "    os.makedirs(path_bad)\n",
    "path_good = os.path.join(\"dataset\", \"good\")\n",
    "if not os.path.isdir(path_good):\n",
    "    os.makedirs(path_good)"
   ]
  },
  {
   "cell_type": "markdown",
   "metadata": {},
   "source": [
    "#### Инициализация функций:"
   ]
  },
  {
   "cell_type": "markdown",
   "metadata": {},
   "source": [
    "Функция для сохранения конфигов в файл:"
   ]
  },
  {
   "cell_type": "code",
   "execution_count": 13,
   "metadata": {},
   "outputs": [],
   "source": [
    "def sync_configs():\n",
    "    \"\"\"saves current configs to the config file\"\"\"\n",
    "    global configs\n",
    "    with open(\"config.yaml\", \"w\") as f:\n",
    "        yaml.safe_dump(configs, f)\n",
    "\n",
    "        "
   ]
  },
  {
   "cell_type": "markdown",
   "metadata": {},
   "source": [
    "Функция, возвращающая \"супную\" страницу, проверяет на капчу"
   ]
  },
  {
   "cell_type": "code",
   "execution_count": 14,
   "metadata": {},
   "outputs": [],
   "source": [
    "def get_page(link: str) -> BeautifulSoup:\n",
    "    \"\"\"tries to get soup-page without captcha\"\"\"\n",
    "    global chrome\n",
    "    while True:\n",
    "        html = requests.get(link, headers={'User-Agent': chrome}).text\n",
    "        page = BeautifulSoup(html, 'lxml')\n",
    "        captcha = page.find_all('div', class_ = \"CheckboxCaptcha\")\n",
    "        if (captcha is None) or len(captcha)==0:\n",
    "            print(\"page is gotten\")\n",
    "            return page\n",
    "        print(\"fail, is catpcha\")"
   ]
  },
  {
   "cell_type": "markdown",
   "metadata": {},
   "source": [
    "Функция, сохраняющая позитивые или отрицательные рецензии с одной страницы одного фильма"
   ]
  },
  {
   "cell_type": "code",
   "execution_count": 15,
   "metadata": {},
   "outputs": [],
   "source": [
    "def save_rewievs_from_page(page: BeautifulSoup, film_name: str, good: bool):\n",
    "    \"\"\"Save rewievs for film from on of his page\"\"\"\n",
    "    global configs\n",
    "    rewievs = page.find_all('div', class_ = 'brand_words')\n",
    "    count_key=\"count_of_good_rewievs\"\n",
    "    file_way = Template('dataset\\\\good\\\\${num}.txt')\n",
    "    if not good:\n",
    "        count_key = \"count_of_bad_rewievs\"\n",
    "        file_way = Template('dataset\\\\bad\\\\${num}.txt')\n",
    "\n",
    "    for i, rewiev in enumerate(rewievs):\n",
    "        if configs[count_key]>=1000:\n",
    "            break\n",
    "        configs[count_key]+=1\n",
    "        sync_configs()\n",
    "        num = format(configs[count_key], '04d')\n",
    "        with open(file_way.substitute(num = num), 'w+', encoding='utf8') as file:\n",
    "            file.write(film_name+'\\n'+rewiev.text)"
   ]
  },
  {
   "cell_type": "markdown",
   "metadata": {},
   "source": [
    "Функция, сохраняющая все позитивные или отрицательные отзывы с одного фильма:"
   ]
  },
  {
   "cell_type": "code",
   "execution_count": 16,
   "metadata": {},
   "outputs": [],
   "source": [
    "def save_rewievs(film_id: str, film_name: str, good: bool):\n",
    "    \"\"\"saves rewievs from one film\"\"\"\n",
    "    global configs\n",
    "    page_key = \"page_num_good\"\n",
    "    if good:\n",
    "        link = good_reviews.substitute(film_id = film_id, page_num=configs[page_key])\n",
    "    else:\n",
    "        page_key = \"page_num_bad\"\n",
    "        link = bad_reviews.substitute(film_id = film_id, page_num=configs[page_key])\n",
    "    page = get_page(link)\n",
    "    \n",
    "    #парсим количество хороших отзывывов\n",
    "    count_of_rewievs = page.find('div', class_ = 'pagesFromTo')\n",
    "    if count_of_rewievs is None:\n",
    "        return 0\n",
    "    count_of_rewievs = count_of_rewievs.text\n",
    "    count_of_rewievs = int(re.sub('\\d+.\\d+ из ', '', count_of_rewievs, count=0))\n",
    "    print(f\"In film {film_name} {count_of_rewievs} {good} rewievs\")\n",
    "\n",
    "    #подсчет количества страниц с хорошими отзывами фильма ----------#\n",
    "    count_of_pages = 0\n",
    "    if count_of_rewievs>=200:\n",
    "        count_of_pages = count_of_rewievs//200\n",
    "        if count_of_rewievs > count_of_pages*200:\n",
    "            count_of_pages+=1\n",
    "    else:\n",
    "        count_of_pages = 1\n",
    "    print(f'Count of pages with {good} rewievs for film \"{film_name}\" is {count_of_pages}')\n",
    "    #------------------------------------------------------------------#\n",
    "\n",
    "    save_rewievs_from_page(page, film_name, good)\n",
    "    configs[page_key]+=1\n",
    "    sync_configs()\n",
    "    page_num = configs[page_key]\n",
    "    for i in range(page_num, count_of_pages+1, 1):\n",
    "        print(f\"saving a {i} page\")\n",
    "        link = good_reviews.substitute(film_id = film_id, page_num=i)\n",
    "        page = get_page(link)\n",
    "        save_rewievs_from_page(page, film_name, good)\n",
    "        configs[page_key]+=1\n",
    "        sync_configs()\n",
    "    configs[page_key]=1\n",
    "    sync_configs()"
   ]
  },
  {
   "cell_type": "markdown",
   "metadata": {},
   "source": [
    "#### Загрузка словаря фильмов из файла"
   ]
  },
  {
   "cell_type": "code",
   "execution_count": 17,
   "metadata": {},
   "outputs": [],
   "source": [
    "with open('films.json', 'r') as file:\n",
    "        films = json.load(file)"
   ]
  },
  {
   "cell_type": "markdown",
   "metadata": {},
   "source": [
    "#### Парсинг рецензий"
   ]
  },
  {
   "cell_type": "markdown",
   "metadata": {},
   "source": [
    "В процессе работы блоков ниже будет происходить вывод информации о работе программы. Сообщение \"fail, is captcha\" означает, что страницу не удается спарсить из-за капчи на сайте кинопоиска. Если таких сообщений становится подряд слишком много, то блок нужно остановить, изменить настройки сети и запустить снова. Парсинг продолжится с того фильма и той страницы, на которых он остановился"
   ]
  },
  {
   "cell_type": "markdown",
   "metadata": {},
   "source": [
    "Париснг хороших рецензий:"
   ]
  },
  {
   "cell_type": "code",
   "execution_count": 23,
   "metadata": {},
   "outputs": [
    {
     "name": "stdout",
     "output_type": "stream",
     "text": [
      "Good reviews already done!\n"
     ]
    }
   ],
   "source": [
    "for key in films.keys():\n",
    "        if configs[\"count_of_good_rewievs\"] >=1000:\n",
    "            break\n",
    "        if configs[\"film_id\"] == 0:\n",
    "            configs[\"film_id\"] = key\n",
    "            sync_configs()\n",
    "        elif configs[\"film_id\"] != key:\n",
    "            continue\n",
    "        save_rewievs(key, films[key][\"name\"], True)\n",
    "        configs[\"film_id\"] = 0\n",
    "        sync_configs()\n",
    "print(\"Good reviews already done!\")"
   ]
  },
  {
   "cell_type": "markdown",
   "metadata": {},
   "source": [
    "Парсинг отрицательных рецензий:"
   ]
  },
  {
   "cell_type": "code",
   "execution_count": null,
   "metadata": {},
   "outputs": [],
   "source": [
    "for key in films.keys():\n",
    "        if configs[\"count_of_bad_rewievs\"] >=1000:\n",
    "            break\n",
    "        if configs[\"film_id\"] == 0:\n",
    "            configs[\"film_id\"] = key\n",
    "            sync_configs()\n",
    "        elif configs[\"film_id\"] != key:\n",
    "            continue\n",
    "        save_rewievs(key, films[key][\"name\"], False)\n",
    "        configs[\"film_id\"] = 0\n",
    "        sync_configs()\n",
    "print(\"Bad reviews already done!\")"
   ]
  }
 ],
 "metadata": {
  "kernelspec": {
   "display_name": "Python 3",
   "language": "python",
   "name": "python3"
  },
  "language_info": {
   "codemirror_mode": {
    "name": "ipython",
    "version": 3
   },
   "file_extension": ".py",
   "mimetype": "text/x-python",
   "name": "python",
   "nbconvert_exporter": "python",
   "pygments_lexer": "ipython3",
   "version": "3.9.11"
  },
  "orig_nbformat": 4
 },
 "nbformat": 4,
 "nbformat_minor": 2
}
